{
 "cells": [
  {
   "cell_type": "code",
   "execution_count": 0,
   "metadata": {
    "application/vnd.databricks.v1+cell": {
     "cellMetadata": {
      "byteLimit": 2048000,
      "rowLimit": 10000
     },
     "inputWidgets": {},
     "nuid": "70348277-0058-4f02-b0f5-33727fb51a13",
     "showTitle": true,
     "tableResultSettingsMap": {},
     "title": "Import Dependencies"
    }
   },
   "outputs": [],
   "source": [
    "from pyspark.sql.functions import col, explode, from_json, lit, current_timestamp, input_file_name, regexp_extract\n",
    "from pyspark.sql.types import StructType, StructField, ArrayType, StringType, MapType"
   ]
  },
  {
   "cell_type": "code",
   "execution_count": 0,
   "metadata": {
    "application/vnd.databricks.v1+cell": {
     "cellMetadata": {
      "byteLimit": 2048000,
      "rowLimit": 10000
     },
     "inputWidgets": {},
     "nuid": "06d77310-93a1-4846-bbba-f57cfd1995e5",
     "showTitle": true,
     "tableResultSettingsMap": {},
     "title": "Extract Data from Volume"
    }
   },
   "outputs": [],
   "source": [
    "raw_json_path = \"/Volumes/01_bronze/warcraftlogs/raw_api_calls/raw_events/*/*.json\""
   ]
  },
  {
   "cell_type": "code",
   "execution_count": 0,
   "metadata": {
    "application/vnd.databricks.v1+cell": {
     "cellMetadata": {
      "byteLimit": 2048000,
      "rowLimit": 10000
     },
     "inputWidgets": {},
     "nuid": "3ca5e7ae-d126-46c4-b2dc-c96dca1d5b85",
     "showTitle": true,
     "tableResultSettingsMap": {},
     "title": "Convert to Dataframe"
    }
   },
   "outputs": [],
   "source": [
    "raw_json_df = spark.read.option(\"multiline\", True).json(raw_json_path)"
   ]
  },
  {
   "cell_type": "code",
   "execution_count": 0,
   "metadata": {
    "application/vnd.databricks.v1+cell": {
     "cellMetadata": {
      "byteLimit": 2048000,
      "rowLimit": 10000
     },
     "inputWidgets": {},
     "nuid": "6269d43b-c6b9-4413-a297-18a49be6d262",
     "showTitle": true,
     "tableResultSettingsMap": {},
     "title": "Transformations"
    }
   },
   "outputs": [],
   "source": [
    "events_df = (\n",
    "    raw_json_df\n",
    "    .selectExpr(\"data.reportData.report.events.data as events\")\n",
    "    .withColumn(\"event\", explode(\"events\"))\n",
    "    .select(\"event.*\")  # flatten top-level event attributes\n",
    "    .withColumn(\"bronze_ingestion_time\", current_timestamp())\n",
    "    .withColumn(\"source_file\", raw_json_df[\"_metadata.file_path\"])\n",
    "    .withColumn(\"report_id\", regexp_extract(\"source_file\", r\"/raw_events/([^/]+)/\", 1))\n",
    ")"
   ]
  },
  {
   "cell_type": "code",
   "execution_count": 0,
   "metadata": {
    "application/vnd.databricks.v1+cell": {
     "cellMetadata": {
      "byteLimit": 2048000,
      "rowLimit": 10000
     },
     "inputWidgets": {},
     "nuid": "b38e1b4a-c766-421c-b20e-3c103e2b437a",
     "showTitle": true,
     "tableResultSettingsMap": {},
     "title": "Write to Unity Catalog"
    }
   },
   "outputs": [],
   "source": [
    "events_df.write.mode(\"append\").format(\"delta\").saveAsTable(\"01_bronze.warcraftlogs.api_calls_events\")"
   ]
  }
 ],
 "metadata": {
  "application/vnd.databricks.v1+notebook": {
   "computePreferences": null,
   "dashboards": [],
   "environmentMetadata": {
    "base_environment": "",
    "environment_version": "2"
   },
   "inputWidgetPreferences": null,
   "language": "python",
   "notebookMetadata": {
    "pythonIndentUnit": 4
   },
   "notebookName": "bronze-extraction",
   "widgets": {}
  },
  "language_info": {
   "name": "python"
  }
 },
 "nbformat": 4,
 "nbformat_minor": 0
}
