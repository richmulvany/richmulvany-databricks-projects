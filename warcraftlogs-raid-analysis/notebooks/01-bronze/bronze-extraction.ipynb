{
 "cells": [
  {
   "cell_type": "code",
   "execution_count": 0,
   "metadata": {
    "application/vnd.databricks.v1+cell": {
     "cellMetadata": {
      "byteLimit": 2048000,
      "rowLimit": 10000
     },
     "inputWidgets": {},
     "nuid": "70348277-0058-4f02-b0f5-33727fb51a13",
     "showTitle": true,
     "tableResultSettingsMap": {},
     "title": "Import Dependencies"
    }
   },
   "outputs": [],
   "source": [
    "from pyspark.sql.functions import col, explode, from_json, lit, regexp_extract, current_timestamp, input_file_name, regexp_extract\n",
    "from pyspark.sql import DataFrame\n",
    "from pyspark.sql.types import StructType, StructField, ArrayType, StringType, MapType"
   ]
  },
  {
   "cell_type": "code",
   "execution_count": 0,
   "metadata": {
    "application/vnd.databricks.v1+cell": {
     "cellMetadata": {
      "byteLimit": 2048000,
      "rowLimit": 10000
     },
     "inputWidgets": {},
     "nuid": "dd4378c6-ab3f-44a2-b2b6-d030d8f72b9d",
     "showTitle": true,
     "tableResultSettingsMap": {},
     "title": "Configure Notebook / Assign Variables"
    }
   },
   "outputs": [],
   "source": [
    "dbutils.widgets.text(\"report_id\", \"\")\n",
    "report_id = dbutils.widgets.get(\"report_id\")\n",
    "\n",
    "dbutils.widgets.text(\"fight_id\", \"\")\n",
    "fight_id = dbutils.widgets.get(\"fight_id\") or None\n",
    "\n",
    "dbutils.widgets.dropdown(\"data_source\", \"fights\", [\"fights\", \"events\", \"actors\", \"tables\"])\n",
    "data_source = dbutils.widgets.get(\"data_source\")"
   ]
  },
  {
   "cell_type": "code",
   "execution_count": 0,
   "metadata": {
    "application/vnd.databricks.v1+cell": {
     "cellMetadata": {
      "byteLimit": 2048000,
      "rowLimit": 10000
     },
     "inputWidgets": {},
     "nuid": "06d77310-93a1-4846-bbba-f57cfd1995e5",
     "showTitle": true,
     "tableResultSettingsMap": {},
     "title": "Extract Data from Volume"
    }
   },
   "outputs": [],
   "source": [
    "raw_json_path = f\"/Volumes/01_bronze/warcraftlogs/raw_api_calls/{report_id}/{data_source}/*.json\""
   ]
  },
  {
   "cell_type": "code",
   "execution_count": 0,
   "metadata": {
    "application/vnd.databricks.v1+cell": {
     "cellMetadata": {
      "byteLimit": 2048000,
      "rowLimit": 10000
     },
     "inputWidgets": {},
     "nuid": "6269d43b-c6b9-4413-a297-18a49be6d262",
     "showTitle": true,
     "tableResultSettingsMap": {},
     "title": "Extract & Load"
    }
   },
   "outputs": [],
   "source": [
    "def extract_json_to_bronze_table(json_path: str, data_source: str) -> DataFrame:\n",
    "    \"\"\"\n",
    "    Extracts WarcraftLogs raw JSON into Delta format based on data_source.\n",
    "\n",
    "    Args:\n",
    "        json_path (str): Path to raw JSON files (e.g., /Volumes/.../events/*.json)\n",
    "        data_source (str): One of 'events', 'fights', 'actors', 'tables'\n",
    "\n",
    "    Returns:\n",
    "        DataFrame: The extracted and flattened DataFrame, written to Delta\n",
    "    \"\"\"\n",
    "\n",
    "    # Load JSON and attach metadata\n",
    "    raw_json_df = (\n",
    "        spark.read\n",
    "        .option(\"multiline\", True)\n",
    "        .option(\"includeMetadata\", True)\n",
    "        .json(json_path)\n",
    "        .withColumn(\"source_file\", col(\"_metadata.file_path\"))\n",
    "    )\n",
    "\n",
    "    # Initialize exploded_df per data_source\n",
    "    if data_source == \"events\":\n",
    "        extracted = raw_json_df.selectExpr(\"data.reportData.report.events.data as records\", \"source_file\")\n",
    "        exploded_df = extracted.withColumn(\"record\", explode(col(\"records\"))).select(\"record.*\", \"source_file\")\n",
    "\n",
    "    elif data_source == \"fights\":\n",
    "        extracted = raw_json_df.selectExpr(\"data.reportData.report.fights as records\", \"source_file\")\n",
    "        exploded_df = extracted.withColumn(\"record\", explode(col(\"records\"))).select(\"record.*\", \"source_file\")\n",
    "\n",
    "    elif data_source == \"actors\":\n",
    "        extracted = raw_json_df.selectExpr(\"data.reportData.report.masterData.actors as records\", \"source_file\")\n",
    "        exploded_df = extracted.withColumn(\"record\", explode(col(\"records\"))).select(\"record.*\", \"source_file\")\n",
    "\n",
    "    elif data_source == \"tables\":\n",
    "        # tables return JSON dicts — keep raw\n",
    "        exploded_df = raw_json_df.selectExpr(\"data.reportData.report.table as table_json\", \"source_file\")\n",
    "\n",
    "    else:\n",
    "        raise ValueError(f\"❌ Unsupported data_source: {data_source}\")\n",
    "\n",
    "    # Add metadata columns\n",
    "    if data_source != \"tables\":\n",
    "        final_df = (\n",
    "            exploded_df\n",
    "            .withColumn(\"bronze_ingestion_time\", current_timestamp())\n",
    "            .withColumn(\"report_id\", regexp_extract(col(\"source_file\"), r\"/([^/]+)/\" + data_source + \"/\", 1))\n",
    "        )\n",
    "    else:\n",
    "        final_df = (\n",
    "            exploded_df\n",
    "            .withColumn(\"bronze_ingestion_time\", current_timestamp())\n",
    "            .withColumn(\"report_id\", regexp_extract(col(\"source_file\"), r\"/([^/]+)/tables/\", 1))\n",
    "        )\n",
    "\n",
    "    # Write to Delta\n",
    "    table_name = f\"01_bronze.warcraftlogs.{data_source}\"\n",
    "    final_df.write.mode(\"append\").format(\"delta\").saveAsTable(table_name)\n",
    "    print(f\"✅ Extracted and saved: {data_source} → {table_name}\")\n",
    "\n",
    "    return final_df"
   ]
  },
  {
   "cell_type": "code",
   "execution_count": 0,
   "metadata": {
    "application/vnd.databricks.v1+cell": {
     "cellMetadata": {
      "byteLimit": 2048000,
      "rowLimit": 10000
     },
     "inputWidgets": {},
     "nuid": "d5a48a1c-7419-4163-9879-f4db6194f11f",
     "showTitle": true,
     "tableResultSettingsMap": {},
     "title": "Write to Unity Catalog"
    }
   },
   "outputs": [],
   "source": [
    "extract_json_to_bronze_table(\n",
    "    json_path=f\"/Volumes/01_bronze/warcraftlogs/raw_api_calls/{report_id}/{data_source}/*.json\",\n",
    "    data_source=data_source\n",
    ")"
   ]
  }
 ],
 "metadata": {
  "application/vnd.databricks.v1+notebook": {
   "computePreferences": null,
   "dashboards": [],
   "environmentMetadata": {
    "base_environment": "",
    "environment_version": "2"
   },
   "inputWidgetPreferences": null,
   "language": "python",
   "notebookMetadata": {
    "pythonIndentUnit": 4
   },
   "notebookName": "bronze-extraction",
   "widgets": {
    "data_source": {
     "currentValue": "events",
     "nuid": "f723722f-d856-4e08-ae6d-e0fd8cf65190",
     "typedWidgetInfo": {
      "autoCreated": false,
      "defaultValue": "fights",
      "label": null,
      "name": "data_source",
      "options": {
       "widgetDisplayType": "Dropdown",
       "choices": [
        "fights",
        "events",
        "actors",
        "tables"
       ],
       "fixedDomain": true,
       "multiselect": false
      },
      "parameterDataType": "String"
     },
     "widgetInfo": {
      "widgetType": "dropdown",
      "defaultValue": "fights",
      "label": null,
      "name": "data_source",
      "options": {
       "widgetType": "dropdown",
       "autoCreated": null,
       "choices": [
        "fights",
        "events",
        "actors",
        "tables"
       ]
      }
     }
    },
    "fight_id": {
     "currentValue": "",
     "nuid": "4ab3b1b5-680b-4b0b-a2e1-eba16a5f00ec",
     "typedWidgetInfo": {
      "autoCreated": false,
      "defaultValue": "",
      "label": null,
      "name": "fight_id",
      "options": {
       "widgetDisplayType": "Text",
       "validationRegex": null
      },
      "parameterDataType": "String"
     },
     "widgetInfo": {
      "widgetType": "text",
      "defaultValue": "",
      "label": null,
      "name": "fight_id",
      "options": {
       "widgetType": "text",
       "autoCreated": null,
       "validationRegex": null
      }
     }
    },
    "report_id": {
     "currentValue": "rVnDB4fcb9qZAPLv",
     "nuid": "dc86b3bb-493a-40ee-be5d-d7bd9332402f",
     "typedWidgetInfo": {
      "autoCreated": false,
      "defaultValue": "",
      "label": null,
      "name": "report_id",
      "options": {
       "widgetDisplayType": "Text",
       "validationRegex": null
      },
      "parameterDataType": "String"
     },
     "widgetInfo": {
      "widgetType": "text",
      "defaultValue": "",
      "label": null,
      "name": "report_id",
      "options": {
       "widgetType": "text",
       "autoCreated": null,
       "validationRegex": null
      }
     }
    }
   }
  },
  "language_info": {
   "name": "python"
  }
 },
 "nbformat": 4,
 "nbformat_minor": 0
}
