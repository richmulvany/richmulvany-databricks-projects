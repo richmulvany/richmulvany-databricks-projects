{
 "cells": [
  {
   "cell_type": "code",
   "execution_count": 0,
   "metadata": {
    "application/vnd.databricks.v1+cell": {
     "cellMetadata": {
      "byteLimit": 2048000,
      "rowLimit": 10000
     },
     "inputWidgets": {},
     "nuid": "3ecc5d7b-985f-43b2-b1a3-3f0f163de852",
     "showTitle": true,
     "tableResultSettingsMap": {},
     "title": "Install Libraries"
    }
   },
   "outputs": [],
   "source": [
    "%pip install requests_toolbelt\n",
    "dbutils.library.restartPython()"
   ]
  },
  {
   "cell_type": "code",
   "execution_count": 0,
   "metadata": {
    "application/vnd.databricks.v1+cell": {
     "cellMetadata": {
      "byteLimit": 2048000,
      "rowLimit": 10000
     },
     "inputWidgets": {},
     "nuid": "39d92e73-388c-4345-83e6-7bc5f902ccb8",
     "showTitle": true,
     "tableResultSettingsMap": {},
     "title": "Import Dependencies"
    }
   },
   "outputs": [],
   "source": [
    "import requests, json, os\n",
    "from datetime import datetime\n",
    "import uuid"
   ]
  },
  {
   "cell_type": "code",
   "execution_count": 0,
   "metadata": {
    "application/vnd.databricks.v1+cell": {
     "cellMetadata": {
      "byteLimit": 2048000,
      "rowLimit": 10000
     },
     "inputWidgets": {},
     "nuid": "9aea26d1-27fb-4b6b-b248-e8758608b6fc",
     "showTitle": true,
     "tableResultSettingsMap": {},
     "title": "Configure Notebook / Assign Variables"
    }
   },
   "outputs": [],
   "source": [
    "dbutils.widgets.text(\"report_id\", \"\")\n",
    "report_id = dbutils.widgets.get(\"report_id\")\n",
    "\n",
    "dbutils.widgets.text(\"fight_id\", \"\")\n",
    "fight_id = dbutils.widgets.get(\"fight_id\") or None\n",
    "\n",
    "dbutils.widgets.dropdown(\"data_source\", \"fights\", [\"fights\", \"events\", \"actors\", \"tables\"])\n",
    "data_source = dbutils.widgets.get(\"data_source\")\n",
    "\n",
    "def get_access_token():\n",
    "    \"\"\"\n",
    "    Retrieves an OAuth2 access token from WarcraftLogs using client credentials stored in Databricks secrets.\n",
    "    \"\"\"\n",
    "    client_id = dbutils.secrets.get(scope=\"warcraftlogs\", key=\"client_id\")\n",
    "    client_secret = dbutils.secrets.get(scope=\"warcraftlogs\", key=\"client_secret\")\n",
    "\n",
    "    response = requests.post(\n",
    "        \"https://www.warcraftlogs.com/oauth/token\",\n",
    "        data={\n",
    "            \"grant_type\": \"client_credentials\",\n",
    "            \"client_id\": client_id,\n",
    "            \"client_secret\": client_secret\n",
    "        }\n",
    "    )\n",
    "    return response.json()[\"access_token\"]\n",
    "\n",
    "token = get_access_token()\n",
    "headers = {\"Authorization\": f\"Bearer {token}\"}\n",
    "base_url = \"https://www.warcraftlogs.com/api/v2/client\""
   ]
  },
  {
   "cell_type": "code",
   "execution_count": 0,
   "metadata": {
    "application/vnd.databricks.v1+cell": {
     "cellMetadata": {
      "byteLimit": 2048000,
      "rowLimit": 10000
     },
     "inputWidgets": {},
     "nuid": "f59fcf5e-b9fb-447b-9114-86b343168740",
     "showTitle": true,
     "tableResultSettingsMap": {},
     "title": "Call API and Write to Volume"
    }
   },
   "outputs": [],
   "source": [
    "# Fights Call\n",
    "if data_source == \"fights\":\n",
    "    query = f\"\"\"\n",
    "    {{\n",
    "      reportData {{\n",
    "        report(code: \"{report_id}\") {{\n",
    "          fights {{\n",
    "            id\n",
    "            name\n",
    "            startTime\n",
    "            endTime\n",
    "            kill\n",
    "            difficulty\n",
    "          }}\n",
    "        }}\n",
    "      }}\n",
    "    }}\n",
    "    \"\"\"\n",
    "    response = requests.post(base_url, json={\"query\": query}, headers=headers)\n",
    "    \n",
    "    if response.status_code != 200:\n",
    "        raise Exception(f\"Request failed with status code {response.status_code}\")\n",
    "    \n",
    "    output = response.json()\n",
    "\n",
    "    if \"errors\" in output:\n",
    "        raise Exception(f\"GraphQL Error: {output['errors']}\")\n",
    "\n",
    "    # Save fights to JSON\n",
    "    ts = datetime.utcnow().strftime(\"%Y%m%dT%H%M%S\")\n",
    "    filename = f\"{report_id}_fights_{ts}.json\"\n",
    "    path = f\"/Volumes/01_bronze/warcraftlogs/raw_api_calls/{report_id}/fights/{filename}\"\n",
    "    dbutils.fs.mkdirs(os.path.dirname(path))\n",
    "    dbutils.fs.put(path, json.dumps(output), overwrite=True)\n",
    "    print(f\"✅ Saved fights data to: {path}\")\n",
    "\n",
    "# Actors Call\n",
    "elif data_source == \"actors\":\n",
    "    query = f\"\"\"\n",
    "    {{\n",
    "      reportData {{\n",
    "        report(code: \"{report_id}\") {{\n",
    "          masterData {{\n",
    "            actors {{\n",
    "              id\n",
    "              name\n",
    "              type\n",
    "              icon\n",
    "            }}\n",
    "          }}\n",
    "        }}\n",
    "      }}\n",
    "    }}\n",
    "    \"\"\"\n",
    "    response = requests.post(base_url, json={\"query\": query}, headers=headers)\n",
    "    \n",
    "    if response.status_code != 200:\n",
    "        raise Exception(f\"Request failed with status code {response.status_code}\")\n",
    "    \n",
    "    output = response.json()\n",
    "\n",
    "    if \"errors\" in output:\n",
    "        raise Exception(f\"GraphQL Error: {output['errors']}\")\n",
    "\n",
    "    ts = datetime.utcnow().strftime(\"%Y%m%dT%H%M%S\")\n",
    "    filename = f\"{report_id}_actors_{ts}.json\"\n",
    "    path = f\"/Volumes/01_bronze/warcraftlogs/raw_api_calls/{report_id}/actors/{filename}\"\n",
    "    dbutils.fs.mkdirs(os.path.dirname(path))\n",
    "    dbutils.fs.put(path, json.dumps(output), overwrite=True)\n",
    "    print(f\"✅ Saved actor data to: {path}\")\n",
    "\n",
    "# Events call\n",
    "elif data_source == \"events\":\n",
    "    # Step 1: Pull fights\n",
    "    fight_query = f\"\"\"\n",
    "    {{\n",
    "      reportData {{\n",
    "        report(code: \"{report_id}\") {{\n",
    "          fights {{\n",
    "            id\n",
    "            startTime\n",
    "            endTime\n",
    "            name\n",
    "            kill\n",
    "          }}\n",
    "        }}\n",
    "      }}\n",
    "    }}\n",
    "    \"\"\"\n",
    "    fight_response = requests.post(base_url, json={\"query\": fight_query}, headers=headers)\n",
    "    \n",
    "    if fight_response.status_code != 200:\n",
    "        raise Exception(f\"Request failed with status code {fight_response.status_code}\")\n",
    "    \n",
    "    fight_data = fight_response.json()\n",
    "\n",
    "    if \"errors\" in fight_data:\n",
    "        raise Exception(f\"GraphQL Error (fights): {fight_data['errors']}\")\n",
    "\n",
    "    fights = fight_data[\"data\"][\"reportData\"][\"report\"][\"fights\"]\n",
    "\n",
    "    # Step 2: Loop over dataTypes and fights\n",
    "    essential_data_types = [\n",
    "        \"Casts\", \"DamageDone\", \"DamageTaken\",\n",
    "        \"Healing\", \"Deaths\", \"Buffs\", \"Debuffs\"\n",
    "    ]\n",
    "\n",
    "    for data_type in essential_data_types:\n",
    "        for fight in fights:\n",
    "            fid = fight[\"id\"]\n",
    "            start_time = fight[\"startTime\"]\n",
    "            end_time = fight[\"endTime\"]\n",
    "            page = 1\n",
    "            current_start = start_time\n",
    "\n",
    "            print(f\"▶️ {data_type} for fight {fid} ({fight['name']})\")\n",
    "\n",
    "            while True:\n",
    "                args = [\n",
    "                    f\"dataType: {data_type}\",\n",
    "                    f\"fightIDs: [{fid}]\",\n",
    "                    f\"startTime: {current_start}\",\n",
    "                    f\"endTime: {end_time}\"\n",
    "                ]\n",
    "                arg_block = \", \".join(args)\n",
    "                query = f\"\"\"\n",
    "                {{\n",
    "                  reportData {{\n",
    "                    report(code: \"{report_id}\") {{\n",
    "                      events({arg_block}) {{\n",
    "                        data\n",
    "                        nextPageTimestamp\n",
    "                      }}\n",
    "                    }}\n",
    "                  }}\n",
    "                }}\n",
    "                \"\"\"\n",
    "\n",
    "                response = requests.post(base_url, json={\"query\": query}, headers=headers)\n",
    "                \n",
    "                if response.status_code != 200:\n",
    "                    raise Exception(f\"Request failed with status code {response.status_code}\")\n",
    "                \n",
    "                json_data = response.json()\n",
    "\n",
    "                if \"errors\" in json_data:\n",
    "                    raise Exception(f\"GraphQL Error ({data_type}, fight {fid}, page {page}): {json_data['errors']}\")\n",
    "\n",
    "                try:\n",
    "                    events = json_data[\"data\"][\"reportData\"][\"report\"][\"events\"][\"data\"]\n",
    "                except KeyError:\n",
    "                    print(f\"❌ Malformed response for {data_type}, fight {fid}, page {page}\")\n",
    "                    break\n",
    "\n",
    "                if not events:\n",
    "                    print(f\"⚠️ No {data_type} events for fight {fid}, page {page}\")\n",
    "                    break\n",
    "\n",
    "                ts = datetime.utcnow().strftime(\"%Y%m%dT%H%M%S\")\n",
    "                filename = f\"{report_id}_fight{fid}_{data_type}_page{page}_{ts}.json\"\n",
    "                path = f\"/Volumes/01_bronze/warcraftlogs/raw_api_calls/{report_id}/events/{filename}\"\n",
    "                dbutils.fs.mkdirs(os.path.dirname(path))\n",
    "                dbutils.fs.put(path, json.dumps(json_data), overwrite=True)\n",
    "                print(f\"✅ Saved {data_type} fight {fid}, page {page} to: {path}\")\n",
    "\n",
    "                try:\n",
    "                    next_page_ts = json_data[\"data\"][\"reportData\"][\"report\"][\"events\"][\"nextPageTimestamp\"]\n",
    "                    if not next_page_ts or next_page_ts >= end_time:\n",
    "                        break\n",
    "                    current_start = next_page_ts\n",
    "                except KeyError:\n",
    "                    break\n",
    "\n",
    "                page += 1\n",
    "\n",
    "# Fight tables call\n",
    "elif data_source == \"tables\":\n",
    "    # Step 1: Pull fights\n",
    "    fight_query = f\"\"\"\n",
    "    {{\n",
    "      reportData {{\n",
    "        report(code: \"{report_id}\") {{\n",
    "          fights {{\n",
    "            id\n",
    "            startTime\n",
    "            endTime\n",
    "            name\n",
    "            kill\n",
    "          }}\n",
    "        }}\n",
    "      }}\n",
    "    }}\n",
    "    \"\"\"\n",
    "    fight_response = requests.post(base_url, json={\"query\": fight_query}, headers=headers)\n",
    "    \n",
    "    if fight_response.status_code != 200:\n",
    "        raise Exception(f\"Request failed with status code {fight_response.status_code}\")\n",
    "    \n",
    "    fight_data = fight_response.json()\n",
    "\n",
    "    if \"errors\" in fight_data:\n",
    "        raise Exception(f\"GraphQL Error (fights): {fight_data['errors']}\")\n",
    "\n",
    "    fights = fight_data[\"data\"][\"reportData\"][\"report\"][\"fights\"]\n",
    "\n",
    "    # Step 2: Loop over table dataTypes\n",
    "    table_data_types = [\"DamageDone\", \"Healing\", \"Deaths\"]  # feel free to expand\n",
    "\n",
    "    for data_type in table_data_types:\n",
    "        for fight in fights:\n",
    "            fid = fight[\"id\"]\n",
    "            query = f\"\"\"\n",
    "              {{\n",
    "              reportData {{\n",
    "                report(code: \"{report_id}\") {{\n",
    "                  table(dataType: {data_type}, fightIDs: [{fid}])\n",
    "                }}\n",
    "              }}\n",
    "            }}\n",
    "            \"\"\"\n",
    "\n",
    "            response = requests.post(base_url, json={\"query\": query}, headers=headers)\n",
    "            \n",
    "            if response.status_code != 200:\n",
    "                raise Exception(f\"Request failed with status code {response.status_code}\")\n",
    "            \n",
    "            json_data = response.json()\n",
    "\n",
    "            if \"errors\" in json_data:\n",
    "                raise Exception(f\"GraphQL Error (table {data_type}, fight {fid}): {json_data['errors']}\")\n",
    "\n",
    "            # Save to file\n",
    "            ts = datetime.utcnow().strftime(\"%Y%m%dT%H%M%S\")\n",
    "            filename = f\"{report_id}_fight{fid}_table_{data_type}_{ts}.json\"\n",
    "            path = f\"/Volumes/01_bronze/warcraftlogs/raw_api_calls/{report_id}/tables/{filename}\"\n",
    "            dbutils.fs.mkdirs(os.path.dirname(path))\n",
    "            dbutils.fs.put(path, json.dumps(json_data), overwrite=True)\n",
    "            print(f\"✅ Saved table {data_type} for fight {fid} to: {path}\")"
   ]
  }
 ],
 "metadata": {
  "application/vnd.databricks.v1+notebook": {
   "computePreferences": null,
   "dashboards": [],
   "environmentMetadata": {
    "base_environment": "",
    "environment_version": "2"
   },
   "inputWidgetPreferences": null,
   "language": "python",
   "notebookMetadata": {
    "pythonIndentUnit": 4
   },
   "notebookName": "bronze-ingestion",
   "widgets": {
    "data_source": {
     "currentValue": "events",
     "nuid": "39fd0395-d8c0-441b-a1ff-d76d42098113",
     "typedWidgetInfo": {
      "autoCreated": false,
      "defaultValue": "fights",
      "label": null,
      "name": "data_source",
      "options": {
       "widgetDisplayType": "Dropdown",
       "choices": [
        "fights",
        "events",
        "actors",
        "tables"
       ],
       "fixedDomain": true,
       "multiselect": false
      },
      "parameterDataType": "String"
     },
     "widgetInfo": {
      "widgetType": "dropdown",
      "defaultValue": "fights",
      "label": null,
      "name": "data_source",
      "options": {
       "widgetType": "dropdown",
       "autoCreated": null,
       "choices": [
        "fights",
        "events",
        "actors",
        "tables"
       ]
      }
     }
    },
    "data_type": {
     "currentValue": "",
     "nuid": "dc4d8ff7-2e55-49e8-91c7-6537f499e259",
     "typedWidgetInfo": {
      "autoCreated": false,
      "defaultValue": "",
      "label": null,
      "name": "data_type",
      "options": {
       "widgetDisplayType": "Text",
       "validationRegex": null
      },
      "parameterDataType": "String"
     },
     "widgetInfo": {
      "widgetType": "text",
      "defaultValue": "",
      "label": null,
      "name": "data_type",
      "options": {
       "widgetType": "text",
       "autoCreated": null,
       "validationRegex": null
      }
     }
    },
    "fight_id": {
     "currentValue": "",
     "nuid": "c8779f82-832e-4358-945e-bae7c030104d",
     "typedWidgetInfo": {
      "autoCreated": false,
      "defaultValue": "",
      "label": null,
      "name": "fight_id",
      "options": {
       "widgetDisplayType": "Text",
       "validationRegex": null
      },
      "parameterDataType": "String"
     },
     "widgetInfo": {
      "widgetType": "text",
      "defaultValue": "",
      "label": null,
      "name": "fight_id",
      "options": {
       "widgetType": "text",
       "autoCreated": null,
       "validationRegex": null
      }
     }
    },
    "report_id": {
     "currentValue": "rVnDB4fcb9qZAPLv",
     "nuid": "4b67a486-f7c2-44dc-a97b-c69ca13b068f",
     "typedWidgetInfo": {
      "autoCreated": false,
      "defaultValue": "",
      "label": null,
      "name": "report_id",
      "options": {
       "widgetDisplayType": "Text",
       "validationRegex": null
      },
      "parameterDataType": "String"
     },
     "widgetInfo": {
      "widgetType": "text",
      "defaultValue": "",
      "label": null,
      "name": "report_id",
      "options": {
       "widgetType": "text",
       "autoCreated": null,
       "validationRegex": null
      }
     }
    }
   }
  },
  "language_info": {
   "name": "python"
  }
 },
 "nbformat": 4,
 "nbformat_minor": 0
}
