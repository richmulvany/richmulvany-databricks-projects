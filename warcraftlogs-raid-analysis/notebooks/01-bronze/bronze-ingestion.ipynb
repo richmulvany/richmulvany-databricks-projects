{
 "cells": [
  {
   "cell_type": "code",
   "execution_count": 0,
   "metadata": {
    "application/vnd.databricks.v1+cell": {
     "cellMetadata": {
      "byteLimit": 2048000,
      "rowLimit": 10000
     },
     "inputWidgets": {},
     "nuid": "3ecc5d7b-985f-43b2-b1a3-3f0f163de852",
     "showTitle": true,
     "tableResultSettingsMap": {},
     "title": "Install Libraries"
    }
   },
   "outputs": [],
   "source": [
    "%pip install requests_toolbelt\n",
    "dbutils.library.restartPython()"
   ]
  },
  {
   "cell_type": "code",
   "execution_count": 0,
   "metadata": {
    "application/vnd.databricks.v1+cell": {
     "cellMetadata": {
      "byteLimit": 2048000,
      "rowLimit": 10000
     },
     "inputWidgets": {},
     "nuid": "39d92e73-388c-4345-83e6-7bc5f902ccb8",
     "showTitle": true,
     "tableResultSettingsMap": {},
     "title": "Import Dependencies"
    }
   },
   "outputs": [],
   "source": [
    "import requests\n",
    "import json\n",
    "import uuid\n",
    "from datetime import datetime\n",
    "import os"
   ]
  },
  {
   "cell_type": "code",
   "execution_count": 0,
   "metadata": {
    "application/vnd.databricks.v1+cell": {
     "cellMetadata": {
      "byteLimit": 2048000,
      "rowLimit": 10000
     },
     "inputWidgets": {},
     "nuid": "967267c4-7267-4dd8-9eb9-94f84345a6d1",
     "showTitle": true,
     "tableResultSettingsMap": {},
     "title": "Configure Notebook / Assign Variables"
    }
   },
   "outputs": [],
   "source": [
    "dbutils.widgets.text(\"report_id\", \"\")\n",
    "report_id = dbutils.widgets.get(\"report_id\")\n",
    "\n",
    "dbutils.widgets.text(\"fight_id\", \"\")\n",
    "fight_id = dbutils.widgets.get(\"fight_id\") or None\n",
    "\n",
    "dbutils.widgets.text(\"data_type\", \"\")\n",
    "data_type = dbutils.widgets.get(\"data_type\") # DamageDone or Buffs, Casts, Healing, etc.\n",
    "\n",
    "def get_access_token():\n",
    "    \"\"\"\n",
    "    Retrieves an OAuth2 access token from WarcraftLogs using client credentials stored in Databricks secrets.\n",
    "    \"\"\"\n",
    "    client_id = dbutils.secrets.get(scope=\"warcraftlogs\", key=\"client_id\")\n",
    "    client_secret = dbutils.secrets.get(scope=\"warcraftlogs\", key=\"client_secret\")\n",
    "\n",
    "    response = requests.post(\n",
    "        \"https://www.warcraftlogs.com/oauth/token\",\n",
    "        data={\n",
    "            \"grant_type\": \"client_credentials\",\n",
    "            \"client_id\": client_id,\n",
    "            \"client_secret\": client_secret\n",
    "        }\n",
    "    )\n",
    "    return response.json()[\"access_token\"]\n",
    "\n",
    "token = get_access_token()\n",
    "headers = {\"Authorization\": f\"Bearer {token}\"}"
   ]
  },
  {
   "cell_type": "code",
   "execution_count": 0,
   "metadata": {
    "application/vnd.databricks.v1+cell": {
     "cellMetadata": {
      "byteLimit": 2048000,
      "rowLimit": 10000
     },
     "inputWidgets": {},
     "nuid": "f59fcf5e-b9fb-447b-9114-86b343168740",
     "showTitle": true,
     "tableResultSettingsMap": {},
     "title": "Call API and Write Data to Volume"
    }
   },
   "outputs": [],
   "source": [
    "base_url = \"https://www.warcraftlogs.com/api/v2/client\"\n",
    "start_time = None\n",
    "page = 1\n",
    "\n",
    "while True:\n",
    "    # Build query arguments\n",
    "    args = [f'dataType: {data_type}']\n",
    "    if fight_id:\n",
    "        args.append(f'fightIDs: [{fight_id}]')\n",
    "    if start_time:\n",
    "        args.append(f'startTime: {start_time}')\n",
    "    arg_block = \", \".join(args)\n",
    "\n",
    "    # Build GraphQL query\n",
    "    query = f\"\"\"\n",
    "    {{\n",
    "      reportData {{\n",
    "        report(code: \"{report_id}\") {{\n",
    "          events({arg_block}) {{\n",
    "            data\n",
    "            nextPageTimestamp\n",
    "          }}\n",
    "        }}\n",
    "      }}\n",
    "    }}\n",
    "    \"\"\"\n",
    "\n",
    "    # POST to the API\n",
    "    response = requests.post(base_url, json={\"query\": query}, headers=headers)\n",
    "    if response.status_code != 200:\n",
    "        raise Exception(f\"API call failed: {response.status_code} - {response.text}\")\n",
    "\n",
    "    json_data = response.json()\n",
    "    \n",
    "    # Error logging\n",
    "    if \"errors\" in json_data:\n",
    "        raise Exception(f\"GraphQL Error: {json_data['errors']}\")\n",
    "\n",
    "    # Extract event data for this page\n",
    "    try:\n",
    "        events = json_data[\"data\"][\"reportData\"][\"report\"][\"events\"][\"data\"]\n",
    "    except KeyError:\n",
    "        print(f\"❌ Malformed response on page {page} — skipping\")\n",
    "        break\n",
    "\n",
    "    # Skip saving if no events in this page\n",
    "    if not events:\n",
    "        print(f\"⚠️ No events found on page {page}. Skipping save and ending pagination.\")\n",
    "        break\n",
    "\n",
    "    # Save this page as JSON\n",
    "    ts = datetime.utcnow().strftime(\"%Y%m%dT%H%M%S\")\n",
    "    filename = f\"{report_id}_{fight_id or 'all'}_{data_type}_page{page}_{ts}.json\"\n",
    "    path = f\"/Volumes/01_bronze/warcraftlogs/raw_api_calls/raw_events/{report_id}/{filename}\"\n",
    "\n",
    "    dbutils.fs.mkdirs(os.path.dirname(path))\n",
    "    dbutils.fs.put(path, json.dumps(json_data), overwrite=True)\n",
    "    print(f\"✅ Saved page {page} to: {path}\")\n",
    "\n",
    "    # Prepare for next iteration\n",
    "    try:\n",
    "        start_time = json_data[\"data\"][\"reportData\"][\"report\"][\"events\"][\"nextPageTimestamp\"]\n",
    "        if start_time is None:\n",
    "            break\n",
    "    except KeyError:\n",
    "        break\n",
    "\n",
    "    page += 1\n"
   ]
  }
 ],
 "metadata": {
  "application/vnd.databricks.v1+notebook": {
   "computePreferences": null,
   "dashboards": [],
   "environmentMetadata": {
    "base_environment": "",
    "environment_version": "2"
   },
   "inputWidgetPreferences": null,
   "language": "python",
   "notebookMetadata": {
    "pythonIndentUnit": 4
   },
   "notebookName": "bronze-ingestion",
   "widgets": {
    "data_type": {
     "currentValue": "DamageDone",
     "nuid": "dc4d8ff7-2e55-49e8-91c7-6537f499e259",
     "typedWidgetInfo": {
      "autoCreated": false,
      "defaultValue": "",
      "label": null,
      "name": "data_type",
      "options": {
       "widgetDisplayType": "Text",
       "validationRegex": null
      },
      "parameterDataType": "String"
     },
     "widgetInfo": {
      "widgetType": "text",
      "defaultValue": "",
      "label": null,
      "name": "data_type",
      "options": {
       "widgetType": "text",
       "autoCreated": null,
       "validationRegex": null
      }
     }
    },
    "fight_id": {
     "currentValue": "1",
     "nuid": "c8779f82-832e-4358-945e-bae7c030104d",
     "typedWidgetInfo": {
      "autoCreated": false,
      "defaultValue": "",
      "label": null,
      "name": "fight_id",
      "options": {
       "widgetDisplayType": "Text",
       "validationRegex": null
      },
      "parameterDataType": "String"
     },
     "widgetInfo": {
      "widgetType": "text",
      "defaultValue": "",
      "label": null,
      "name": "fight_id",
      "options": {
       "widgetType": "text",
       "autoCreated": null,
       "validationRegex": null
      }
     }
    },
    "report_id": {
     "currentValue": "rVnDB4fcb9qZAPLv",
     "nuid": "4b67a486-f7c2-44dc-a97b-c69ca13b068f",
     "typedWidgetInfo": {
      "autoCreated": false,
      "defaultValue": "",
      "label": null,
      "name": "report_id",
      "options": {
       "widgetDisplayType": "Text",
       "validationRegex": null
      },
      "parameterDataType": "String"
     },
     "widgetInfo": {
      "widgetType": "text",
      "defaultValue": "",
      "label": null,
      "name": "report_id",
      "options": {
       "widgetType": "text",
       "autoCreated": null,
       "validationRegex": null
      }
     }
    }
   }
  },
  "language_info": {
   "name": "python"
  }
 },
 "nbformat": 4,
 "nbformat_minor": 0
}
