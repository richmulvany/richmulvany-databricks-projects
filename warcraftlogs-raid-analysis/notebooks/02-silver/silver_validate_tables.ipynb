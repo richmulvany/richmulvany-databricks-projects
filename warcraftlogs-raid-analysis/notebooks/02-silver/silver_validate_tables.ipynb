{
 "cells": [
  {
   "cell_type": "code",
   "execution_count": 0,
   "metadata": {
    "application/vnd.databricks.v1+cell": {
     "cellMetadata": {
      "byteLimit": 2048000,
      "rowLimit": 10000
     },
     "inputWidgets": {},
     "nuid": "b7ac197f-6028-4e04-ab1e-7b596073a5fa",
     "showTitle": false,
     "tableResultSettingsMap": {},
     "title": ""
    }
   },
   "outputs": [],
   "source": [
    "%pip install databricks-labs-dqx\n",
    "dbutils.library.restartPython()"
   ]
  },
  {
   "cell_type": "code",
   "execution_count": 0,
   "metadata": {
    "application/vnd.databricks.v1+cell": {
     "cellMetadata": {
      "byteLimit": 2048000,
      "rowLimit": 10000
     },
     "inputWidgets": {},
     "nuid": "976522fe-230c-476f-b994-58f52517d6fc",
     "showTitle": true,
     "tableResultSettingsMap": {},
     "title": "Import Dependencies"
    }
   },
   "outputs": [],
   "source": [
    "from databricks.labs.dqx.engine import DQEngine\n",
    "from databricks.labs.dqx.profiler.profiler import DQProfiler\n",
    "from databricks.labs.dqx.profiler.generator import DQGenerator\n",
    "from databricks.sdk import WorkspaceClient"
   ]
  },
  {
   "cell_type": "code",
   "execution_count": 0,
   "metadata": {
    "application/vnd.databricks.v1+cell": {
     "cellMetadata": {
      "byteLimit": 2048000,
      "rowLimit": 10000
     },
     "inputWidgets": {},
     "nuid": "f64a2940-b815-49ea-828f-6f7188341bcf",
     "showTitle": true,
     "tableResultSettingsMap": {},
     "title": "Read Tables"
    }
   },
   "outputs": [],
   "source": [
    "tables = {\n",
    "    \"tables_abilities\": spark.read.table(\"02_silver.staging.warcraftlogs_tables_abilities\"),\n",
    "    \"tables_damage_abilities\": spark.read.table(\"02_silver.staging.warcraftlogs_tables_damage_abilities\"),\n",
    "    \"tables_damage_abilities_nested\": spark.read.table(\"02_silver.staging.warcraftlogs_tables_damage_abilities_nested\"),\n",
    "    \"tables_damage_sources\": spark.read.table(\"02_silver.staging.warcraftlogs_tables_damage_sources\"),\n",
    "    \"tables_events\": spark.read.table(\"02_silver.staging.warcraftlogs_tables_events\"),\n",
    "    \"tables_gear\": spark.read.table(\"02_silver.staging.warcraftlogs_tables_gear\"),\n",
    "    \"tables_healing_abilities\": spark.read.table(\"02_silver.staging.warcraftlogs_tables_healing_abilities\"),\n",
    "    \"tables_pets\": spark.read.table(\"02_silver.staging.warcraftlogs_tables_pets\"),\n",
    "    \"tables_healing_sources\": spark.read.table(\"02_silver.staging.warcraftlogs_tables_healing_sources\"),\n",
    "    \"tables_summary\": spark.read.table(\"02_silver.staging.warcraftlogs_tables_summary\"),\n",
    "    \"tables_talents\": spark.read.table(\"02_silver.staging.warcraftlogs_tables_talents\"),\n",
    "    \"tables_targets\": spark.read.table(\"02_silver.staging.warcraftlogs_tables_targets\"),\n",
    "}"
   ]
  },
  {
   "cell_type": "code",
   "execution_count": 0,
   "metadata": {
    "application/vnd.databricks.v1+cell": {
     "cellMetadata": {
      "byteLimit": 2048000,
      "rowLimit": 10000
     },
     "inputWidgets": {},
     "nuid": "2ff37e0c-da5a-4ab8-8084-c8788d58187e",
     "showTitle": true,
     "tableResultSettingsMap": {},
     "title": "Start Engines"
    }
   },
   "outputs": [],
   "source": [
    "ws = WorkspaceClient()\n",
    "profiler = DQProfiler(ws)\n",
    "generator = DQGenerator(ws)\n",
    "engine = DQEngine(spark)"
   ]
  },
  {
   "cell_type": "code",
   "execution_count": 0,
   "metadata": {
    "application/vnd.databricks.v1+cell": {
     "cellMetadata": {
      "byteLimit": 2048000,
      "rowLimit": 10000
     },
     "inputWidgets": {},
     "nuid": "77eadc92-00f8-40c2-85fa-88a859eea13d",
     "showTitle": true,
     "tableResultSettingsMap": {},
     "title": "Run Validation and Write to Silver"
    }
   },
   "outputs": [],
   "source": [
    "for name, df in tables.items():\n",
    "    # Profile\n",
    "    _, profiles = profiler.profile(df)\n",
    "    all_checks = generator.generate_dq_rules(profiles)\n",
    "\n",
    "    # Remove problematic checks\n",
    "    checks = [\n",
    "        c for c in all_checks\n",
    "        if c.get(\"check\", {}).get(\"function\") != \"is_in_range\"\n",
    "        and not (\n",
    "            c.get(\"check\", {}).get(\"function\") == \"is_in_list\"\n",
    "        )\n",
    "    ]\n",
    "\n",
    "    # Validate\n",
    "    valid_df, quarantine_df = engine.apply_checks_by_metadata_and_split(df, checks)\n",
    "\n",
    "    # Save\n",
    "    engine.save_results_in_table(\n",
    "        output_df=valid_df,\n",
    "        quarantine_df=quarantine_df,\n",
    "        output_table=f\"02_silver.warcraftlogs.{name}\",\n",
    "        quarantine_table=f\"02_silver.dq_monitoring.warcraftlogs_quarantine_{name}\"\n",
    "    )\n",
    "\n",
    "    # Clean staging area\n",
    "    spark.sql(f\"\"\"DROP TABLE IF EXISTS 02_silver.staging.warcraftlogs_{name}\"\"\")"
   ]
  }
 ],
 "metadata": {
  "application/vnd.databricks.v1+notebook": {
   "computePreferences": null,
   "dashboards": [],
   "environmentMetadata": {
    "base_environment": "",
    "environment_version": "2"
   },
   "inputWidgetPreferences": null,
   "language": "python",
   "notebookMetadata": {
    "pythonIndentUnit": 4
   },
   "notebookName": "silver_validate_tables",
   "widgets": {}
  },
  "language_info": {
   "name": "python"
  }
 },
 "nbformat": 4,
 "nbformat_minor": 0
}
