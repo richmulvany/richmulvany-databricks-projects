{
 "cells": [
  {
   "cell_type": "code",
   "execution_count": 0,
   "metadata": {
    "application/vnd.databricks.v1+cell": {
     "cellMetadata": {
      "byteLimit": 2048000,
      "rowLimit": 10000
     },
     "inputWidgets": {},
     "nuid": "b7ac197f-6028-4e04-ab1e-7b596073a5fa",
     "showTitle": false,
     "tableResultSettingsMap": {},
     "title": ""
    }
   },
   "outputs": [],
   "source": [
    "%pip install databricks-labs-dqx\n",
    "dbutils.library.restartPython()"
   ]
  },
  {
   "cell_type": "code",
   "execution_count": 0,
   "metadata": {
    "application/vnd.databricks.v1+cell": {
     "cellMetadata": {
      "byteLimit": 2048000,
      "rowLimit": 10000
     },
     "inputWidgets": {},
     "nuid": "976522fe-230c-476f-b994-58f52517d6fc",
     "showTitle": true,
     "tableResultSettingsMap": {},
     "title": "Import Dependencies"
    }
   },
   "outputs": [],
   "source": [
    "from databricks.labs.dqx.engine import DQEngine\n",
    "from databricks.labs.dqx.profiler.profiler import DQProfiler\n",
    "from databricks.labs.dqx.profiler.generator import DQGenerator\n",
    "from databricks.sdk import WorkspaceClient"
   ]
  },
  {
   "cell_type": "code",
   "execution_count": 0,
   "metadata": {
    "application/vnd.databricks.v1+cell": {
     "cellMetadata": {
      "byteLimit": 2048000,
      "rowLimit": 10000
     },
     "inputWidgets": {},
     "nuid": "6645522e-a855-434a-baa9-380f175f3216",
     "showTitle": true,
     "tableResultSettingsMap": {},
     "title": "Read Tables"
    }
   },
   "outputs": [],
   "source": [
    "tables = {\n",
    "    \"casts\": spark.read.table(\"02_silver.staging.warcraftlogs_events_casts\"),\n",
    "    \"deaths\": spark.read.table(\"02_silver.staging.warcraftlogs_events_deaths\"),\n",
    "    \"buffs\": spark.read.table(\"02_silver.staging.warcraftlogs_events_buffs\"),\n",
    "    \"debuffs\": spark.read.table(\"02_silver.staging.warcraftlogs_events_debuffs\"),\n",
    "}"
   ]
  },
  {
   "cell_type": "code",
   "execution_count": 0,
   "metadata": {
    "application/vnd.databricks.v1+cell": {
     "cellMetadata": {
      "byteLimit": 2048000,
      "rowLimit": 10000
     },
     "inputWidgets": {},
     "nuid": "c529ba25-5a34-4927-ab5a-6abc7e13b0bd",
     "showTitle": true,
     "tableResultSettingsMap": {},
     "title": "Start Engines"
    }
   },
   "outputs": [],
   "source": [
    "ws = WorkspaceClient()\n",
    "profiler = DQProfiler(ws)\n",
    "generator = DQGenerator(ws)\n",
    "engine = DQEngine(spark)"
   ]
  },
  {
   "cell_type": "code",
   "execution_count": 0,
   "metadata": {
    "application/vnd.databricks.v1+cell": {
     "cellMetadata": {
      "byteLimit": 2048000,
      "rowLimit": 10000
     },
     "inputWidgets": {},
     "nuid": "8a9f14e9-8415-4215-bae5-be8ed3b85fe5",
     "showTitle": true,
     "tableResultSettingsMap": {},
     "title": "Run Validation and Write to Silver"
    }
   },
   "outputs": [],
   "source": [
    "for name, df in tables.items():\n",
    "    # Profile\n",
    "    _, profiles = profiler.profile(df)\n",
    "    all_checks = generator.generate_dq_rules(profiles)\n",
    "\n",
    "    # Remove problematic checks\n",
    "    checks = [\n",
    "        c for c in all_checks\n",
    "        if c.get(\"check\", {}).get(\"function\") != \"is_in_range\"\n",
    "        and not (\n",
    "            c.get(\"check\", {}).get(\"function\") == \"is_in_list\"\n",
    "        )\n",
    "    ]\n",
    "\n",
    "    # Validate\n",
    "    valid_df, quarantine_df = engine.apply_checks_by_metadata_and_split(df, checks)\n",
    "\n",
    "    # Save\n",
    "    valid_df.write.mode(\"overwrite\").saveAsTable(f\"02_silver.warcraftlogs.events_{name}\")\n",
    "    quarantine_df.write.mode(\"overwrite\").saveAsTable(f\"02_silver.dq_monitoring.warcraftlogs_quarantine_events_{name}\")\n",
    "\n",
    "    # Clean staging area\n",
    "    spark.sql(f\"\"\"DROP TABLE IF EXISTS 02_silver.staging.warcraftlogs_events_{name}\"\"\")    "
   ]
  }
 ],
 "metadata": {
  "application/vnd.databricks.v1+notebook": {
   "computePreferences": null,
   "dashboards": [],
   "environmentMetadata": {
    "base_environment": "",
    "environment_version": "2"
   },
   "inputWidgetPreferences": null,
   "language": "python",
   "notebookMetadata": {
    "mostRecentlyExecutedCommandWithImplicitDF": {
     "commandId": 6567464919573840,
     "dataframes": [
      "_sqldf"
     ]
    },
    "pythonIndentUnit": 4
   },
   "notebookName": "silver_validate_events",
   "widgets": {}
  },
  "language_info": {
   "name": "python"
  }
 },
 "nbformat": 4,
 "nbformat_minor": 0
}
