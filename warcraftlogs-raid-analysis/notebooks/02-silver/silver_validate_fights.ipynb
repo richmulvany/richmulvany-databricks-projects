{
 "cells": [
  {
   "cell_type": "code",
   "execution_count": 0,
   "metadata": {
    "application/vnd.databricks.v1+cell": {
     "cellMetadata": {
      "byteLimit": 2048000,
      "rowLimit": 10000
     },
     "inputWidgets": {},
     "nuid": "b7ac197f-6028-4e04-ab1e-7b596073a5fa",
     "showTitle": false,
     "tableResultSettingsMap": {},
     "title": ""
    }
   },
   "outputs": [],
   "source": [
    "%pip install databricks-labs-dqx\n",
    "dbutils.library.restartPython()"
   ]
  },
  {
   "cell_type": "code",
   "execution_count": 0,
   "metadata": {
    "application/vnd.databricks.v1+cell": {
     "cellMetadata": {
      "byteLimit": 2048000,
      "rowLimit": 10000
     },
     "inputWidgets": {},
     "nuid": "976522fe-230c-476f-b994-58f52517d6fc",
     "showTitle": true,
     "tableResultSettingsMap": {},
     "title": "Import Dependencies"
    }
   },
   "outputs": [],
   "source": [
    "from pyspark.sql.functions import col\n",
    "from databricks.labs.dqx.engine import DQEngine\n",
    "from databricks.labs.dqx.rule import DQForEachColRule, DQDatasetRule\n",
    "from databricks.labs.dqx import check_funcs\n",
    "from databricks.labs.dqx.profiler.profiler import DQProfiler\n",
    "from databricks.labs.dqx.profiler.generator import DQGenerator\n",
    "from databricks.sdk import WorkspaceClient"
   ]
  },
  {
   "cell_type": "code",
   "execution_count": 0,
   "metadata": {
    "application/vnd.databricks.v1+cell": {
     "cellMetadata": {
      "byteLimit": 2048000,
      "rowLimit": 10000
     },
     "inputWidgets": {},
     "nuid": "6ee17134-a9e1-4fa4-b046-6afb8d6d4e7f",
     "showTitle": true,
     "tableResultSettingsMap": {},
     "title": "Read Table"
    }
   },
   "outputs": [],
   "source": [
    "df = spark.read.table(\"02_silver.staging.warcraftlogs_fights_boss_pulls\")"
   ]
  },
  {
   "cell_type": "code",
   "execution_count": 0,
   "metadata": {
    "application/vnd.databricks.v1+cell": {
     "cellMetadata": {
      "byteLimit": 2048000,
      "rowLimit": 10000
     },
     "inputWidgets": {},
     "nuid": "431867f1-00d8-45ef-86bb-5ccfa9f45f71",
     "showTitle": true,
     "tableResultSettingsMap": {},
     "title": "Establish Checks"
    }
   },
   "outputs": [],
   "source": [
    "# Profile\n",
    "ws = WorkspaceClient()\n",
    "profiler = DQProfiler(ws)\n",
    "summary_stats, profiles = profiler.profile(df)\n",
    "generator = DQGenerator(ws)\n",
    "checks = generator.generate_dq_rules(profiles)\n",
    "\n",
    "# Filter out is_in_range manually\n",
    "checks = [\n",
    "    c for c in checks\n",
    "    if c.get(\"check\", {}).get(\"function\") != \"is_in_range\"\n",
    "]"
   ]
  },
  {
   "cell_type": "code",
   "execution_count": 0,
   "metadata": {
    "application/vnd.databricks.v1+cell": {
     "cellMetadata": {
      "byteLimit": 2048000,
      "rowLimit": 10000
     },
     "inputWidgets": {},
     "nuid": "8a9f14e9-8415-4215-bae5-be8ed3b85fe5",
     "showTitle": true,
     "tableResultSettingsMap": {},
     "title": "Run Validation and Write to Silver"
    }
   },
   "outputs": [],
   "source": [
    "# Run validation using metadata-based API\n",
    "engine = DQEngine(spark)\n",
    "valid_df, quarantine_df = engine.apply_checks_by_metadata_and_split(df, checks)\n",
    "\n",
    "# Save results\n",
    "valid_df.write.mode(\"overwrite\").saveAsTable(\"02_silver.warcraftlogs.fights_boss_pulls\")\n",
    "quarantine_df.write.mode(\"overwrite\").saveAsTable(\"02_silver.dq_monitoring.warcraftlogs_quarantine_fights_boss_pulls\")"
   ]
  },
  {
   "cell_type": "code",
   "execution_count": 0,
   "metadata": {
    "application/vnd.databricks.v1+cell": {
     "cellMetadata": {
      "byteLimit": 2048000,
      "rowLimit": 10000
     },
     "inputWidgets": {},
     "nuid": "e273e326-8077-4187-89c2-fbff4d184574",
     "showTitle": true,
     "tableResultSettingsMap": {},
     "title": "Clean Staging Area"
    }
   },
   "outputs": [],
   "source": [
    "spark.sql(\"DROP TABLE IF EXISTS 02_silver.staging.warcraftlogs_fights_boss_pulls\")"
   ]
  }
 ],
 "metadata": {
  "application/vnd.databricks.v1+notebook": {
   "computePreferences": null,
   "dashboards": [],
   "environmentMetadata": {
    "base_environment": "",
    "environment_version": "2"
   },
   "inputWidgetPreferences": null,
   "language": "python",
   "notebookMetadata": {
    "pythonIndentUnit": 4
   },
   "notebookName": "silver_validate_fights",
   "widgets": {}
  },
  "language_info": {
   "name": "python"
  }
 },
 "nbformat": 4,
 "nbformat_minor": 0
}
