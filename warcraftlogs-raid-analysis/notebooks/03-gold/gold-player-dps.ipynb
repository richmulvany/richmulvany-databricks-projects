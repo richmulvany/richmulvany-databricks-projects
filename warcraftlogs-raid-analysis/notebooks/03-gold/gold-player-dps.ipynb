{
 "cells": [
  {
   "cell_type": "code",
   "execution_count": 0,
   "metadata": {
    "application/vnd.databricks.v1+cell": {
     "cellMetadata": {
      "byteLimit": 2048000,
      "rowLimit": 10000
     },
     "inputWidgets": {},
     "nuid": "033fa789-346f-4420-a8e7-a6f5fc4c4af7",
     "showTitle": true,
     "tableResultSettingsMap": {},
     "title": "Import Dependencies"
    }
   },
   "outputs": [],
   "source": [
    "from pyspark.sql.functions import col"
   ]
  },
  {
   "cell_type": "code",
   "execution_count": 0,
   "metadata": {
    "application/vnd.databricks.v1+cell": {
     "cellMetadata": {
      "byteLimit": 2048000,
      "rowLimit": 10000
     },
     "inputWidgets": {},
     "nuid": "8897f90c-7c04-43aa-aca0-9d4471e5f314",
     "showTitle": true,
     "tableResultSettingsMap": {},
     "title": "Load Required Silver Tables"
    }
   },
   "outputs": [],
   "source": [
    "damage_df = spark.table(\"02_silver.warcraftlogs.tables_damage_abilities_nested\")  # columns: report_id, fight_id, player_id, total_damage, dps\n",
    "fights_df = spark.table(\"02_silver.warcraftlogs.fights_boss_pulls\")  # columns: report_id, fight_id, boss_id, boss_name, difficulty, kill, start_time\n",
    "actors_df = spark.table(\"02_silver.warcraftlogs.actors_players\")  # columns: report_id, player_id, player_name, class, spec, realm"
   ]
  },
  {
   "cell_type": "code",
   "execution_count": 0,
   "metadata": {
    "application/vnd.databricks.v1+cell": {
     "cellMetadata": {
      "byteLimit": 2048000,
      "rowLimit": 10000
     },
     "inputWidgets": {},
     "nuid": "e152b869-083c-4405-ac64-892d4d04419c",
     "showTitle": false,
     "tableResultSettingsMap": {
      "0": {
       "dataGridStateBlob": null,
       "filterBlob": "{\"version\":1,\"filterGroups\":[],\"syncTimestamp\":1751365566794}",
       "queryPlanFiltersBlob": "[]",
       "tableResultIndex": 0
      }
     },
     "title": ""
    }
   },
   "outputs": [],
   "source": [
    "display(damage_df)\n",
    "display(fights_df)\n",
    "display(actors_df)"
   ]
  },
  {
   "cell_type": "code",
   "execution_count": 0,
   "metadata": {
    "application/vnd.databricks.v1+cell": {
     "cellMetadata": {
      "byteLimit": 2048000,
      "rowLimit": 10000
     },
     "inputWidgets": {},
     "nuid": "d9bfe119-0d02-4336-a2b9-f14dbc5d921b",
     "showTitle": false,
     "tableResultSettingsMap": {},
     "title": ""
    }
   },
   "outputs": [],
   "source": [
    "print(f'damage_df columns: {damage_df.columns}')\n",
    "print(f'fights_df columns: {fights_df.columns}')\n",
    "print(f'actors_df columns: {actors_df.columns}')"
   ]
  },
  {
   "cell_type": "code",
   "execution_count": 0,
   "metadata": {
    "application/vnd.databricks.v1+cell": {
     "cellMetadata": {},
     "inputWidgets": {},
     "nuid": "46b7ca3b-d993-430f-808c-0279b1184c1d",
     "showTitle": true,
     "tableResultSettingsMap": {},
     "title": "Aggregate Damage"
    }
   },
   "outputs": [],
   "source": [
    "df_damage_done = (\n",
    "    df_flat\n",
    "    .select(\"report_id\", \"report_start_date\", col(\"fight\").alias(\"pull_number\"))\n",
    "    .withColumn(\"player_name\", F.col(\"name\"))\n",
    "    .withColumn(\"player_class\", F.col(\"type\"))\n",
    "    .withColumn(\"event\", F.explode_outer(\"events\"))\n",
    "    .filter(F.col(\"event.type\") == \"damage\")\n",
    "    .groupBy(\"report_id\", \"report_start_date\", \"pull_number\", \"player_name\", \"player_class\")\n",
    "    .agg(\n",
    "        F.sum(\"event.amount\").alias(\"total_damage\")\n",
    "    )\n",
    ")\n",
    "\n",
    "damage_df = "
   ]
  },
  {
   "cell_type": "code",
   "execution_count": 0,
   "metadata": {
    "application/vnd.databricks.v1+cell": {
     "cellMetadata": {
      "byteLimit": 2048000,
      "rowLimit": 10000
     },
     "inputWidgets": {},
     "nuid": "736dc301-b5be-499d-aab4-5db4e02f4723",
     "showTitle": true,
     "tableResultSettingsMap": {},
     "title": "Join Tables"
    }
   },
   "outputs": [],
   "source": [
    "# Join damage with fight and actor metadata\n",
    "damage_with_fights = (\n",
    "    damage_df.alias(\"dmg\")\n",
    "    .join(\n",
    "        fights_df.alias(\"f\"),\n",
    "        on=[\n",
    "            damage_df[\"report_id\"] == fights_df[\"report_id\"],\n",
    "            damage_df[\"pull_number\"] == fights_df[\"pull_number\"],\n",
    "            damage_df[\"report_date\"] == fights_df[\"report_date\"],\n",
    "        ],\n",
    "        how=\"inner\"\n",
    "    )\n",
    "    .join(\n",
    "        actors_df.alias(\"a\"),\n",
    "        on=[\n",
    "            damage_df[\"report_id\"] == actors_df[\"report_id\"],\n",
    "            damage_df[\"player_name\"] == actors_df[\"player_name\"],\n",
    "            damage_df[\"report_date\"] == actors_df[\"report_date\"]\n",
    "        ],\n",
    "        how=\"inner\"\n",
    "    )\n",
    "    .select(\n",
    "        \"dmg.report_id\", \"dmg.report_date\", \"dmg.pull_number\",\n",
    "        \"dmg.player_name\", \"dmg.player_guid\", \"dmg.player_class\",\n",
    "        \"a.player_spec\",\n",
    "        \"dmg.total_damage\", \"dmg.active_time\", \"dmg.dps\",\n",
    "\"f.difficulty\", \"f.name\", \"f.start_time\", \"f.end_time\"\n",
    "    )\n",
    ")\n",
    " "
   ]
  },
  {
   "cell_type": "code",
   "execution_count": 0,
   "metadata": {
    "application/vnd.databricks.v1+cell": {
     "cellMetadata": {
      "byteLimit": 2048000,
      "rowLimit": 10000
     },
     "inputWidgets": {},
     "nuid": "4d865ac6-e986-4d8a-9902-b4f04ee2c265",
     "showTitle": false,
     "tableResultSettingsMap": {
      "0": {
       "dataGridStateBlob": null,
       "filterBlob": "{\"version\":1,\"filterGroups\":[{\"enabled\":true,\"filterGroupId\":\"fg_304e4fa7\",\"op\":\"OR\",\"filters\":[{\"filterId\":\"f_ce9cd96f\",\"enabled\":true,\"columnId\":\"report_id\",\"dataType\":\"string\",\"filterType\":\"oneof\"}],\"local\":false,\"updatedAt\":1751361219222}],\"syncTimestamp\":1751361219223}",
       "queryPlanFiltersBlob": "[]",
       "tableResultIndex": 0
      }
     },
     "title": ""
    }
   },
   "outputs": [],
   "source": [
    "display(damage_with_fights)"
   ]
  },
  {
   "cell_type": "code",
   "execution_count": 0,
   "metadata": {
    "application/vnd.databricks.v1+cell": {
     "cellMetadata": {
      "byteLimit": 2048000,
      "rowLimit": 10000
     },
     "inputWidgets": {},
     "nuid": "ec0129be-9957-4ad2-a6d0-ab7bac84c111",
     "showTitle": true,
     "tableResultSettingsMap": {},
     "title": "Transform"
    }
   },
   "outputs": [],
   "source": [
    "# Remove those who switched spec during report\n",
    "damage_with_fights = damage_with_fights.where(col(\"player_spec\") != \"multiple\")\n",
    "\n",
    "# Calculate DPS\n",
    "damage_with_fights = damage_with_fights.withColumn(\"fight_duration_sec\", (col(\"end_time\") - col(\"start_time\")) / 1000)\n",
    "gold_player_dps = damage_with_fights.withColumn(\"damage_per_second\", (col(\"total_damage\") / col(\"fight_duration_sec\")).cast(\"integer\") )"
   ]
  },
  {
   "cell_type": "code",
   "execution_count": 0,
   "metadata": {
    "application/vnd.databricks.v1+cell": {
     "cellMetadata": {
      "byteLimit": 2048000,
      "rowLimit": 10000
     },
     "inputWidgets": {},
     "nuid": "788601f4-5d8b-485d-8626-368012419ce1",
     "showTitle": false,
     "tableResultSettingsMap": {},
     "title": ""
    }
   },
   "outputs": [],
   "source": [
    "display(gold_player_dps)"
   ]
  },
  {
   "cell_type": "code",
   "execution_count": 0,
   "metadata": {
    "application/vnd.databricks.v1+cell": {
     "cellMetadata": {
      "byteLimit": 2048000,
      "rowLimit": 10000
     },
     "inputWidgets": {},
     "nuid": "0186fa44-db72-4609-9d21-b14711103094",
     "showTitle": false,
     "tableResultSettingsMap": {},
     "title": ""
    }
   },
   "outputs": [],
   "source": [
    "display(player_dps_gold)"
   ]
  }
 ],
 "metadata": {
  "application/vnd.databricks.v1+notebook": {
   "computePreferences": null,
   "dashboards": [],
   "environmentMetadata": {
    "base_environment": "",
    "environment_version": "2"
   },
   "inputWidgetPreferences": null,
   "language": "python",
   "notebookMetadata": {
    "pythonIndentUnit": 4
   },
   "notebookName": "gold-player-dps",
   "widgets": {}
  },
  "language_info": {
   "name": "python"
  }
 },
 "nbformat": 4,
 "nbformat_minor": 0
}
