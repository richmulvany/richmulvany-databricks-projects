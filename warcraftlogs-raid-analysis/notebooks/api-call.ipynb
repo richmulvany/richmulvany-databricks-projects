{
 "cells": [
  {
   "cell_type": "code",
   "execution_count": 0,
   "metadata": {
    "application/vnd.databricks.v1+cell": {
     "cellMetadata": {
      "byteLimit": 2048000,
      "rowLimit": 10000
     },
     "inputWidgets": {},
     "nuid": "a76a5631-fba8-418d-b3be-1c81f79ead9e",
     "showTitle": true,
     "tableResultSettingsMap": {},
     "title": "Install Packages"
    }
   },
   "outputs": [],
   "source": [
    "%pip install gql\n",
    "%pip install requests_toolbelt\n",
    "%restart_python"
   ]
  },
  {
   "cell_type": "code",
   "execution_count": 0,
   "metadata": {
    "application/vnd.databricks.v1+cell": {
     "cellMetadata": {
      "byteLimit": 2048000,
      "rowLimit": 10000
     },
     "inputWidgets": {},
     "nuid": "db5179ae-58dc-4a56-882c-fcd4c6d4b855",
     "showTitle": true,
     "tableResultSettingsMap": {},
     "title": "Import Dependencies"
    }
   },
   "outputs": [],
   "source": [
    "from pyspark.sql import SparkSession\n",
    "from pyspark.sql.types import StructType, StructField, StringType, LongType, IntegerType, DoubleType, BooleanType, MapType\n",
    "import requests\n",
    "from gql import gql, Client\n",
    "from gql.transport.requests import RequestsHTTPTransport"
   ]
  },
  {
   "cell_type": "code",
   "execution_count": 0,
   "metadata": {
    "application/vnd.databricks.v1+cell": {
     "cellMetadata": {
      "byteLimit": 2048000,
      "rowLimit": 10000
     },
     "inputWidgets": {},
     "nuid": "17c2574c-140c-47bd-924c-652d7731cc34",
     "showTitle": true,
     "tableResultSettingsMap": {},
     "title": "Generate Access Token"
    }
   },
   "outputs": [],
   "source": [
    "client_id = dbutils.secrets.get(scope=\"warcraftlogs\", key=\"client_id\")\n",
    "client_secret = dbutils.secrets.get(scope=\"warcraftlogs\", key=\"client_secret\")\n",
    "\n",
    "token_url = \"https://www.warcraftlogs.com/oauth/token\"\n",
    "response = requests.post(token_url, data={\n",
    "    \"grant_type\": \"client_credentials\",\n",
    "    \"client_id\": client_id,\n",
    "    \"client_secret\": client_secret\n",
    "})\n",
    "\n",
    "access_token = response.json()[\"access_token\"]\n",
    "print(\"Access token:\", access_token)\n"
   ]
  },
  {
   "cell_type": "code",
   "execution_count": 0,
   "metadata": {
    "application/vnd.databricks.v1+cell": {
     "cellMetadata": {
      "byteLimit": 2048000,
      "rowLimit": 10000
     },
     "inputWidgets": {},
     "nuid": "423b3375-8b09-4b2e-937b-e444a9bebb45",
     "showTitle": false,
     "tableResultSettingsMap": {},
     "title": ""
    }
   },
   "outputs": [],
   "source": [
    "def _get_access_token():\n",
    "    client_id = dbutils.secrets.get(scope=\"warcraftlogs\", key=\"client_id\")\n",
    "    client_secret = dbutils.secrets.get(scope=\"warcraftlogs\", key=\"client_secret\")\n",
    "\n",
    "    response = requests.post(\n",
    "        \"https://www.warcraftlogs.com/oauth/token\",\n",
    "        data={\"grant_type\": \"client_credentials\",\n",
    "              \"client_id\": client_id,\n",
    "              \"client_secret\": client_secret}\n",
    "    )\n",
    "    return response.json()[\"access_token\"]\n",
    "\n",
    "def get_event_data_spark(report_code: str, fight_start: int, fight_end: int, data_type: str = \"DAMAGE\"):\n",
    "    access_token = _get_access_token()\n",
    "    \n",
    "    transport = RequestsHTTPTransport(\n",
    "        url=\"https://www.warcraftlogs.com/api/v2/client\",\n",
    "        headers={\"Authorization\": f\"Bearer {access_token}\"},\n",
    "        use_json=True,\n",
    "    )\n",
    "    client = Client(transport=transport, fetch_schema_from_transport=False)\n",
    "\n",
    "    all_events = []\n",
    "    current_start = fight_start\n",
    "\n",
    "    while current_start < fight_end:\n",
    "        query = gql(f\"\"\"\n",
    "        query {{\n",
    "          reportData {{\n",
    "            report(code: \"{report_code}\") {{\n",
    "              events(startTime: {current_start}, endTime: {fight_end}, dataType: {data_type}) {{\n",
    "                data\n",
    "                nextPageTimestamp\n",
    "              }}\n",
    "            }}\n",
    "          }}\n",
    "        }}\n",
    "        \"\"\")\n",
    "\n",
    "        result = client.execute(query)\n",
    "        event_chunk = result['reportData']['report']['events']['data']\n",
    "        all_events.extend(event_chunk)\n",
    "\n",
    "        next_page = result['reportData']['report']['events'].get('nextPageTimestamp')\n",
    "        if not next_page:\n",
    "            break\n",
    "        current_start = next_page\n",
    "\n",
    "    # Create Spark DataFrame directly from list of dicts\n",
    "    spark = SparkSession.builder.getOrCreate()\n",
    "    return spark.createDataFrame(all_events)"
   ]
  },
  {
   "cell_type": "code",
   "execution_count": 0,
   "metadata": {
    "application/vnd.databricks.v1+cell": {
     "cellMetadata": {
      "byteLimit": 2048000,
      "rowLimit": 10000
     },
     "inputWidgets": {},
     "nuid": "de8348c1-8e26-438a-a0d8-7849d6db6363",
     "showTitle": false,
     "tableResultSettingsMap": {},
     "title": ""
    }
   },
   "outputs": [],
   "source": [
    "df = get_event_data_spark(\n",
    "    report_code=\"rVnDB4fcb9qZAPLv\",\n",
    "    fight_start=8021594,\n",
    "    fight_end=8415041,\n",
    "    data_type=\"DamageDone\"  # or \"CASTS\", \"DEATHS\", etc.\n",
    ")\n",
    "\n",
    "display(df)"
   ]
  },
  {
   "cell_type": "code",
   "execution_count": 0,
   "metadata": {
    "application/vnd.databricks.v1+cell": {
     "cellMetadata": {
      "byteLimit": 2048000,
      "rowLimit": 10000
     },
     "inputWidgets": {},
     "nuid": "1d6a4eb5-690f-4fcd-a89f-78b333ab912e",
     "showTitle": false,
     "tableResultSettingsMap": {},
     "title": ""
    }
   },
   "outputs": [],
   "source": [
    "transport = RequestsHTTPTransport(\n",
    "    url=\"https://www.warcraftlogs.com/api/v2/client\",\n",
    "    headers={\"Authorization\": f\"Bearer {access_token}\"},\n",
    "    use_json=True,\n",
    ")\n",
    "\n",
    "client = Client(transport=transport, fetch_schema_from_transport=False)\n",
    "\n",
    "# Get report metadata for a given report code\n",
    "report_code = \"rVnDB4fcb9qZAPLv\"  # change report code here\n",
    "query = gql(\"\"\"\n",
    "query {\n",
    "  reportData {\n",
    "    report(code: \"%s\") {\n",
    "      title\n",
    "      startTime\n",
    "      endTime\n",
    "      zone {\n",
    "        name\n",
    "      }\n",
    "      fights {\n",
    "        id\n",
    "        name\n",
    "        startTime\n",
    "        endTime\n",
    "        kill\n",
    "      }\n",
    "    }\n",
    "  }\n",
    "}\n",
    "\"\"\" % report_code)\n",
    "\n",
    "result = client.execute(query)\n",
    "print(result)\n"
   ]
  }
 ],
 "metadata": {
  "application/vnd.databricks.v1+notebook": {
   "computePreferences": null,
   "dashboards": [],
   "environmentMetadata": {
    "base_environment": "",
    "environment_version": "2"
   },
   "inputWidgetPreferences": null,
   "language": "python",
   "notebookMetadata": {
    "pythonIndentUnit": 4
   },
   "notebookName": "api-call",
   "widgets": {}
  },
  "language_info": {
   "name": "python"
  }
 },
 "nbformat": 4,
 "nbformat_minor": 0
}
